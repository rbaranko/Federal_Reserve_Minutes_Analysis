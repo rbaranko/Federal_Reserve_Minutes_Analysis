{
 "cells": [
  {
   "cell_type": "markdown",
   "metadata": {},
   "source": [
    "# FOMC Sentiment and Relation to Leading Market Indicators "
   ]
  },
  {
   "cell_type": "code",
   "execution_count": 62,
   "metadata": {},
   "outputs": [],
   "source": [
    "import statistics\n",
    "import pandas\n",
    "import numpy as np\n",
    "import matplotlib.pyplot as plt\n",
    "import scipy.stats as stats            # Basic package for basic univariate regressions\n",
    "import statsmodels.api as statsmod           # More sophisticated package for univariate and multivariate regressions"
   ]
  },
  {
   "cell_type": "markdown",
   "metadata": {},
   "source": [
    "## <span style=\"color:blue\"> Part 1. FOMC Minutes</span> \n",
    "\n",
    "<b>Background:</b> The Federal Open Market Committee (FOMC), a committee within the Federal Reserve System, is charged under United States law with overseeing the nation's open market operations. This Federal Reserve committee makes key decisions about interest rates and the growth of the United States money supply. Committee members meet regularly (typically once a month or once every other month) to make these decisions. Their meeting minutes are made public shortly after the meeting. \n",
    "\n",
    "<b>Goal:</b> This project aims to (a) measure and quantify central bankers' $\\textit{positive}$ and $\\textit{negative}$ sentiment expressed during these high-level meetings, and then (b) examine how the two sentiment measures evolve over time on a $\\textit{yearly}$ basis. Finally, we will examine what other factors contribute to negative (positive) market sentiment (see Part 2).\n",
    "\n",
    "This data spans from 02/1990 to 03/2020"
   ]
  },
  {
   "cell_type": "markdown",
   "metadata": {},
   "source": [
    "#### To create a \"negative\" sentiment score of the FOMC meeting on February 7, 1990, we used the following equation: $\\mbox{NegativeScore}_{19900207} = \\frac{Counts of Negative Words_{19900207}}{Total Word Counts_{19900207}}\\times 100$, where file \"LM_negative.txt\" provides a collection of negative words suggesed by Loughran and McDonald (https://sraf.nd.edu/textual-analysis/resources/). \n",
    "\n",
    "#### Similarly, we can create a \"positive\" sentiment score of the FOMC meeting on February 7, 1990, using the following equation: $\\mbox{PositiveScore}_{19900207} = \\frac{Counts of Positive Words_{19900207}}{Total Word Counts_{19900207}}\\times 100$, where file \"LM_positive.txt\" provides a collection of positive words from the same academic source. "
   ]
  },
  {
   "cell_type": "markdown",
   "metadata": {},
   "source": [
    "### Step 1: Load Fed minutes and initially examine one meeting minutes file"
   ]
  },
  {
   "cell_type": "code",
   "execution_count": 63,
   "metadata": {},
   "outputs": [],
   "source": [
    "# Input function\n",
    "def Input(filename):\n",
    "    f = open(filename, 'r',encoding=\"utf8\")  \n",
    "    lines = f.readlines()\n",
    "    lines = [l.strip() for l in lines]  # output will be a list of strings where each string corresponds to each line\n",
    "    f.close()\n",
    "    return lines"
   ]
  },
  {
   "cell_type": "code",
   "execution_count": 64,
   "metadata": {
    "scrolled": true
   },
   "outputs": [],
   "source": [
    "# Import the negative and positive words as a list broken by line in text file\n",
    "list_neg = Input('LM_negative.txt')\n",
    "list_pos = Input('LM_positive.txt')"
   ]
  },
  {
   "cell_type": "code",
   "execution_count": 65,
   "metadata": {
    "scrolled": false
   },
   "outputs": [],
   "source": [
    "# Import the FOMC meeting file\n",
    "fomc = Input(\"19900207.txt\")\n",
    "fomc_text = ' '.join(fomc) # combines list together into one string\n",
    "fomc_split = fomc_text.split(' ') # breaks each word by space to form a seperate list\n",
    "fomc_list = [f.upper().replace('.','').replace(',','') for f in fomc_split if f!= '--' and f!=' ' and f!='']\n",
    "\n"
   ]
  },
  {
   "cell_type": "code",
   "execution_count": 66,
   "metadata": {},
   "outputs": [],
   "source": [
    "# Calculate the negative and postive score\n",
    "def sentiment_score(text_list, sentiment): # general function to use for both positive and negative evaluation\n",
    "    sentiment_counts = 0\n",
    "    for word in text_list:\n",
    "        word_caps = word.upper() # to match word in positive_negative word list\n",
    "        if word_caps in sentiment:  # Checks to see if string is in the list\n",
    "            sentiment_counts += 1\n",
    "    score = (sentiment_counts/len(text_list))*100\n",
    "    return score, sentiment_counts, len(text_list)\n",
    "\n",
    "def overall_sentiment(pos_score, neg_score):  # Evaluates the most prominent sentiment in the meeting minutes\n",
    "    if positive_score > negative_score:\n",
    "        overall_sentiment = 'positive'\n",
    "    if positive_score < negative_score:\n",
    "        overall_sentiment = 'negative'\n",
    "    else:\n",
    "        overall_sentiment = 'neutral'\n",
    "    return overall_sentiment\n",
    "\n",
    "positive_score, p_counts, total_words = sentiment_score(fomc_list, list_pos)\n",
    "negative_score, n_counts, total_words = sentiment_score(fomc_list, list_neg)\n",
    "overall_sentiment = overall_sentiment(positive_score, negative_score)\n"
   ]
  },
  {
   "cell_type": "code",
   "execution_count": 67,
   "metadata": {},
   "outputs": [
    {
     "name": "stdout",
     "output_type": "stream",
     "text": [
      "During this FOMC meeting, central bankers and officials expressed slightly more negative sentiment. To be specific, 35 of 5760 words (or 0.61%) are related to positive sentiment, while 0.69% are related to negative sentiment.\n"
     ]
    }
   ],
   "source": [
    "print(\"During this FOMC meeting, central bankers and officials expressed slightly more {} sentiment. To be specific, {} of {} words (or {:2.2f}%) are related to positive sentiment, while {:2.2f}% are related to negative sentiment.\".format(overall_sentiment, p_counts, total_words, positive_score, negative_score))"
   ]
  },
  {
   "cell_type": "markdown",
   "metadata": {},
   "source": [
    "### Step 2: Create a list of positive and negative score sentiments from all Fed minutes in file"
   ]
  },
  {
   "cell_type": "code",
   "execution_count": 68,
   "metadata": {},
   "outputs": [
    {
     "name": "stdout",
     "output_type": "stream",
     "text": [
      "19900207.txt\n",
      "20200315.txt\n",
      "<class 'list'> <class 'str'>\n"
     ]
    }
   ],
   "source": [
    "# Here is a complete list of file names\n",
    "TITLE = ['19900207.txt','19900327.txt',\t'19900515.txt',\t'19900703.txt',\t'19900821.txt',\t'19901002.txt',\t'19901113.txt',\t'19901218.txt',\t'19910206.txt',\t'19910326.txt',\t'19910514.txt',\t'19910703.txt',\t'19910820.txt',\t'19911001.txt',\t'19911105.txt',\t'19911217.txt',\t'19920205.txt',\t'19920331.txt',\t'19920519.txt',\t'19920701.txt',\t'19920818.txt',\t'19921006.txt',\t'19921117.txt',\t'19921222.txt',\t'19930203.txt',\t'19930323.txt',\t'19930518.txt',\t'19930707.txt',\t'19930817.txt',\t'19930921.txt',\t'19931116.txt',\t'19931221.txt',\t'19940204.txt',\t'19940322.txt',\t'19940517.txt',\t'19940706.txt',\t'19940816.txt',\t'19940927.txt',\t'19941115.txt',\t'19941220.txt',\t'19950201.txt',\t'19950328.txt',\t'19950523.txt',\t'19950706.txt',\t'19950822.txt',\t'19950926.txt',\t'19951115.txt',\t'19951219.txt',\t'19960130.txt',\t'19960326.txt',\t'19960521.txt',\t'19960702.txt',\t'19960820.txt',\t'19960924.txt',\t'19961113.txt',\t'19961217.txt',\t'19970204.txt',\t'19970325.txt',\t'19970520.txt',\t'19970701.txt',\t'19970819.txt',\t'19970930.txt',\t'19971112.txt',\t'19971216.txt',\t'19980203.txt',\t'19980331.txt',\t'19980519.txt',\t'19980630.txt',\t'19980818.txt',\t'19980929.txt',\t'19981117.txt',\t'19981222.txt',\t'19990202.txt',\t'19990330.txt',\t'19990518.txt',\t'19990629.txt',\t'19990824.txt',\t'19991005.txt',\t'19991116.txt',\t'19991221.txt',\t'20000202.txt',\t'20000321.txt',\t'20000516.txt',\t'20000628.txt',\t'20000822.txt',\t'20001003.txt',\t'20001115.txt',\t'20001219.txt',\t'20010131.txt',\t'20010320.txt',\t'20010515.txt',\t'20010627.txt',\t'20010821.txt',\t'20011002.txt',\t'20011106.txt',\t'20011211.txt',\t'20020130.txt',\t'20020319.txt',\t'20020507.txt',\t'20020626.txt',\t'20020813.txt',\t'20020924.txt',\t'20021106.txt',\t'20021210.txt',\t'20030129.txt',\t'20030318.txt',\t'20030506.txt',\t'20030625.txt',\t'20030812.txt',\t'20030916.txt',\t'20031028.txt',\t'20031209.txt',\t'20040128.txt',\t'20040316.txt',\t'20040504.txt',\t'20040630.txt',\t'20040810.txt',\t'20040921.txt',\t'20041110.txt',\t'20041214.txt',\t'20050202.txt',\t'20050322.txt',\t'20050503.txt',\t'20050630.txt',\t'20050809.txt',\t'20050920.txt',\t'20051101.txt',\t'20051213.txt',\t'20060131.txt',\t'20060328.txt',\t'20060510.txt',\t'20060629.txt',\t'20060808.txt',\t'20060920.txt',\t'20061025.txt',\t'20061212.txt',\t'20070131.txt',\t'20070321.txt',\t'20070509.txt',\t'20070628.txt',\t'20070807.txt',\t'20070918.txt',\t'20071031.txt',\t'20071211.txt',\t'20080130.txt',\t'20080318.txt',\t'20080430.txt',\t'20080625.txt',\t'20080805.txt',\t'20080916.txt',\t'20081029.txt',\t'20081216.txt',\t'20090128.txt',\t'20090318.txt',\t'20090429.txt',\t'20090624.txt',\t'20090812.txt',\t'20090923.txt',\t'20091104.txt',\t'20091216.txt',\t'20100127.txt',\t'20100316.txt',\t'20100428.txt',\t'20100623.txt',\t'20100810.txt',\t'20100921.txt',\t'20101103.txt',\t'20101214.txt',\t'20110126.txt',\t'20110315.txt',\t'20110427.txt',\t'20110622.txt',\t'20110809.txt',\t'20110921.txt',\t'20111102.txt',\t'20111213.txt',\t'20120125.txt',\t'20120313.txt',\t'20120425.txt',\t'20120620.txt',\t'20120801.txt',\t'20120913.txt',\t'20121024.txt',\t'20121212.txt',\t'20130130.txt',\t'20130320.txt',\t'20130501.txt',\t'20130619.txt',\t'20130731.txt',\t'20130918.txt',\t'20131030.txt',\t'20131218.txt',\t'20140129.txt',\t'20140319.txt',\t'20140430.txt',\t'20140618.txt',\t'20140730.txt',\t'20140917.txt',\t'20141029.txt',\t'20141217.txt',\t'20150128.txt',\t'20150318.txt',\t'20150429.txt',\t'20150617.txt',\t'20150729.txt',\t'20150917.txt',\t'20151028.txt',\t'20151216.txt',\t'20160127.txt',\t'20160316.txt',\t'20160427.txt',\t'20160615.txt',\t'20160727.txt',\t'20160921.txt',\t'20161102.txt',\t'20161214.txt',\t'20170201.txt',\t'20170315.txt',\t'20170503.txt',\t'20170614.txt',\t'20170726.txt',\t'20170920.txt',\t'20171101.txt',\t'20171213.txt',\t'20180131.txt',\t'20180321.txt',\t'20180502.txt',\t'20180613.txt',\t'20180801.txt',\t'20180926.txt',\t'20181108.txt',\t'20181219.txt',\t'20190130.txt',\t'20190320.txt',\t'20190501.txt',\t'20190619.txt',\t'20190731.txt',\t'20190918.txt',\t'20191030.txt',\t'20191211.txt',\t'20200129.txt',\t'20200315.txt']\n",
    "print(TITLE[0]) # FIRST FILE NAME\n",
    "print(TITLE[241]) # LAST FILE NAME\n",
    "print(type(TITLE),type(TITLE[0]))"
   ]
  },
  {
   "cell_type": "code",
   "execution_count": 69,
   "metadata": {},
   "outputs": [],
   "source": [
    "NEGSCORE = []\n",
    "POSSCORE = []\n",
    "for meeting in TITLE:\n",
    "    fomc = Input(meeting)  # Reads in and cleans up meeting data\n",
    "    fomc_text = ' '.join(fomc) # combines list together into one string\n",
    "    fomc_split = fomc_text.split(' ') # breaks each word by space to form a seperate list\n",
    "    fomc_list = [f.upper().replace('.','').replace(',','') for f in fomc_split if f!= '--' and f!=' ' and f!='']\n",
    "    pos_results = sentiment_score(fomc_list, list_pos)\n",
    "    neg_results = sentiment_score(fomc_list, list_neg)\n",
    "    NEGSCORE.append(neg_results[0])\n",
    "    POSSCORE.append(pos_results[0])"
   ]
  },
  {
   "cell_type": "code",
   "execution_count": 70,
   "metadata": {},
   "outputs": [
    {
     "name": "stdout",
     "output_type": "stream",
     "text": [
      "0.6944444444444444 2.9775676491298664\n",
      "1.5641113784805774 0.914260229680009\n"
     ]
    }
   ],
   "source": [
    "# first and last scores in each list\n",
    "print(NEGSCORE[0], NEGSCORE[-1])\n",
    "print(POSSCORE[25], POSSCORE[-25])"
   ]
  },
  {
   "cell_type": "markdown",
   "metadata": {},
   "source": [
    "### Step 3: Obtain $\\textit{yearly}$ positive and negative scores. \n",
    "\n",
    "Take an average of positive scores from all FOMC meetings within the same year; similarly, take an average of negative scores from all FOMC meetings within the same year. There were different numbers of FOMC meetings in different years which requires to take unique averages specific to each year. "
   ]
  },
  {
   "cell_type": "code",
   "execution_count": 71,
   "metadata": {
    "scrolled": true
   },
   "outputs": [],
   "source": [
    "year = 1990 # starting year\n",
    "positives = []\n",
    "negatives = []\n",
    "while year < 2021: # Runs analysis for every year up through 2020\n",
    "    dates = []\n",
    "    for meeting in TITLE:\n",
    "        if str(year) in meeting:  # pulls current year being evaluated into seperate list to be evaluated\n",
    "            dates.append(meeting)\n",
    "    p_SCORE = []\n",
    "    n_SCORE = []\n",
    "    for meeting in dates:\n",
    "        fomc = Input(meeting)  # Reads in each meeting from given year\n",
    "        fomc_text = ' '.join(fomc) \n",
    "        fomc_split = fomc_text.split(' ') \n",
    "        fomc_list = [f.upper().replace('.','').replace(',','') for f in fomc_split if f!= '--' and f!=' ' and f!='']\n",
    "        pos_results = sentiment_score(fomc_list, list_pos)\n",
    "        neg_results = sentiment_score(fomc_list, list_neg)\n",
    "        p_SCORE.append(neg_results[0])\n",
    "        n_SCORE.append(pos_results[0])\n",
    "    pos = statistics.mean(p_SCORE) # Calculate average score for year\n",
    "    neg = statistics.mean(n_SCORE)\n",
    "    positives.append(pos) # Add to sentiment lists\n",
    "    negatives.append(neg)\n",
    "    year += 1"
   ]
  },
  {
   "cell_type": "markdown",
   "metadata": {},
   "source": [
    "###  Step 4: Plot the time series of mean positive and negative scores"
   ]
  },
  {
   "cell_type": "code",
   "execution_count": 72,
   "metadata": {},
   "outputs": [
    {
     "data": {
      "image/png": "[encoded data removed]",
      "text/plain": [
       "<Figure size 432x288 with 1 Axes>"
      ]
     },
     "metadata": {
      "needs_background": "light"
     },
     "output_type": "display_data"
    }
   ],
   "source": [
    "every_5_years = np.array(range(1990,2021,5)) # labels for x axis\n",
    "plt.plot(np.array(positives), 'b--', label='mean positive scores')\n",
    "plt.plot(np.array(negatives), 'r--', label='mean negative scores')\n",
    "plt.xticks(np.array([0,5,10,15,20,25,30]), every_5_years)\n",
    "plt.legend(loc='best')\n",
    "plt.show()"
   ]
  },
  {
   "cell_type": "code",
   "execution_count": 73,
   "metadata": {},
   "outputs": [
    {
     "data": {
      "text/plain": [
       "0.17332369990730695"
      ]
     },
     "execution_count": 73,
     "metadata": {},
     "output_type": "execute_result"
    }
   ],
   "source": [
    "r = np.corrcoef(positives, negatives)\n",
    "r[0][1]"
   ]
  },
  {
   "cell_type": "markdown",
   "metadata": {},
   "source": [
    "#### Analysis\n",
    "\n",
    "While it is clear that, on average, more postive words are used per meeting than negative words, it appears that there is a relatively inverse relationship between mean scores based on movements in the graph. Finding the correlation coeffcient, however, there is a slight positive correlation between scores which suggests upward trending use of words with positive/negative tagged notions being used in proportion to total words."
   ]
  },
  {
   "cell_type": "markdown",
   "metadata": {},
   "source": [
    "## <span style=\"color:blue\"> Part 2. Regression Analysis</span> \n",
    "\n",
    "<b>Motivation and question:</b> In Part 1, we obtained yearly negative sentiment scores. By construction, the higher the negative score is, the more negative sentiment there was during FOMC meetings of that year. However, it is still unclear: what is negative sentiment? Because the purpose of these meetings is indeed to discuss the recent past market and economic conditions and future interest rate strategies, it would be interesting to understand <span style=\"color:blue\">what fundamental events or indicators explain negative sentiment.</span>\n",
    "\n",
    "<b> Additional Data found in \"Indicators_DATA.csv\": \n",
    "  * Column 1: <b>year</b>, 1990-2020\n",
    "  * Column 2: <b>yearly negative sentiment score</b>\n",
    "  * Column 3: <b>yearly litigation score</b>, constructed using FOMC meeting minutes and a \"litigious\" dictionary. The higher the score is, the more discussions or concerns about business lawsuits there were at the meeting.   \n",
    "  * Column 4: <b>yearly ambiguity score</b>, constructed using FOMC meeting minutes and an \"ambiguity\" dictionary. It captures how uncertain central bankers are about their own comments, opinions, and speeches made during the meeting. This score is measured by the percentage of ambiguity words. The higher the score is, the more ambiguity there was at the meeting. \n",
    "  * Column 5: <b>yearly VIX index</b> (source: CBOE). This measure indicates stock market fear and anxiety from investors. It is usually dubbed as the \"fear index\" by mainstream newspapers. The higher the index is, the higher the anxiety there is in the market.  \n",
    "  \n",
    "As a result, to put it in a context of a regression framework, our dependent variable is the negative sentiment score (Column 2), and the three potential explanatory variables capture three different perspectives of the economy: \n",
    "\n",
    "   * Business litigation concerns (Column 3)\n",
    "   * Ambiguity and belief (Column 4)\n",
    "   * Stock market anxiety (Column 5)"
   ]
  },
  {
   "cell_type": "markdown",
   "metadata": {},
   "source": [
    "### Step 1: Prep data and regression functions"
   ]
  },
  {
   "cell_type": "code",
   "execution_count": 74,
   "metadata": {},
   "outputs": [],
   "source": [
    "def reg_m(y, x):\n",
    "    X = np.hstack((np.ones((len(x),1)), x))     # adds column of ones to X\n",
    "    results = statsmod.OLS(y, X).fit()                # creates object containing regression results\n",
    "    return results"
   ]
  },
  {
   "cell_type": "code",
   "execution_count": 75,
   "metadata": {},
   "outputs": [
    {
     "data": {
      "text/plain": [
       "array([[           nan,            nan,            nan,            nan,\n",
       "                   nan],\n",
       "       [1.99000000e+03, 1.27867097e+00, 4.27814660e-01, 1.06394397e+00,\n",
       "        2.63800000e+01],\n",
       "       [1.99100000e+03, 1.17111494e+00, 4.77659466e-01, 8.78273850e-01,\n",
       "        1.93100000e+01],\n",
       "       [1.99200000e+03, 8.33722372e-01, 5.75747770e-01, 1.08043680e+00,\n",
       "        1.25700000e+01],\n",
       "       [1.99300000e+03, 1.89470892e+00, 3.00657314e-01, 1.63873031e+00,\n",
       "        1.16600000e+01]])"
      ]
     },
     "execution_count": 75,
     "metadata": {},
     "output_type": "execute_result"
    }
   ],
   "source": [
    "# Import data\n",
    "DATA = np.genfromtxt(\"Indicators_DATA.csv\", delimiter=',') # import data\n",
    "DATA_n = np.array([\"YEAR\", \"NEGSCORE\",\"LITSCORE\", \"AMGSCORE\", \"VIX\"])\n",
    "DATA[:5]\n"
   ]
  },
  {
   "cell_type": "code",
   "execution_count": 76,
   "metadata": {},
   "outputs": [],
   "source": [
    "DATA = DATA[1:, :] # remove blank first line of data"
   ]
  },
  {
   "cell_type": "code",
   "execution_count": 77,
   "metadata": {},
   "outputs": [
    {
     "data": {
      "text/plain": [
       "(31, 5)"
      ]
     },
     "execution_count": 77,
     "metadata": {},
     "output_type": "execute_result"
    }
   ],
   "source": [
    "DATA.shape"
   ]
  },
  {
   "cell_type": "code",
   "execution_count": 89,
   "metadata": {},
   "outputs": [],
   "source": [
    "# parsing each column\n",
    "Neg_score = DATA[:, DATA_n=='NEGSCORE']\n",
    "litigation = DATA[:, DATA_n=='LITSCORE']\n",
    "ambiguity = DATA[:, DATA_n=='AMGSCORE']\n",
    "vix = DATA[:, DATA_n=='VIX']\n",
    "X = np.hstack((litigation, ambiguity, vix))"
   ]
  },
  {
   "cell_type": "code",
   "execution_count": 79,
   "metadata": {},
   "outputs": [],
   "source": [
    "def extract_results(x, y):\n",
    "    model = reg_m(y, x) # used for model summary\n",
    "    R2 = model.rsquared # Model R-squared\n",
    "    pvalue = model.pvalues # variable and constant p-values\n",
    "    coefficient = model.params # coefficient estimations\n",
    "    return model, R2, pvalue[1], coefficient"
   ]
  },
  {
   "cell_type": "markdown",
   "metadata": {},
   "source": [
    "### Step 2: Run isolated regressions on each feature"
   ]
  },
  {
   "cell_type": "code",
   "execution_count": 80,
   "metadata": {},
   "outputs": [],
   "source": [
    "# Runing univariate models to explore initial relationships\n",
    "lit_neg = extract_results(litigation, Neg_score)\n",
    "amb_neg = extract_results(ambiguity, Neg_score)\n",
    "vix_neg = extract_results(vix, Neg_score)"
   ]
  },
  {
   "cell_type": "code",
   "execution_count": 81,
   "metadata": {},
   "outputs": [
    {
     "data": {
      "text/html": [
       "<table class=\"simpletable\">\n",
       "<caption>OLS Regression Results</caption>\n",
       "<tr>\n",
       "  <th>Dep. Variable:</th>            <td>y</td>        <th>  R-squared:         </th> <td>   0.213</td>\n",
       "</tr>\n",
       "<tr>\n",
       "  <th>Model:</th>                   <td>OLS</td>       <th>  Adj. R-squared:    </th> <td>   0.186</td>\n",
       "</tr>\n",
       "<tr>\n",
       "  <th>Method:</th>             <td>Least Squares</td>  <th>  F-statistic:       </th> <td>   7.860</td>\n",
       "</tr>\n",
       "<tr>\n",
       "  <th>Date:</th>             <td>Sun, 06 Sep 2020</td> <th>  Prob (F-statistic):</th>  <td>0.00892</td>\n",
       "</tr>\n",
       "<tr>\n",
       "  <th>Time:</th>                 <td>10:51:39</td>     <th>  Log-Likelihood:    </th> <td> -14.732</td>\n",
       "</tr>\n",
       "<tr>\n",
       "  <th>No. Observations:</th>      <td>    31</td>      <th>  AIC:               </th> <td>   33.46</td>\n",
       "</tr>\n",
       "<tr>\n",
       "  <th>Df Residuals:</th>          <td>    29</td>      <th>  BIC:               </th> <td>   36.33</td>\n",
       "</tr>\n",
       "<tr>\n",
       "  <th>Df Model:</th>              <td>     1</td>      <th>                     </th>     <td> </td>   \n",
       "</tr>\n",
       "<tr>\n",
       "  <th>Covariance Type:</th>      <td>nonrobust</td>    <th>                     </th>     <td> </td>   \n",
       "</tr>\n",
       "</table>\n",
       "<table class=\"simpletable\">\n",
       "<tr>\n",
       "    <td></td>       <th>coef</th>     <th>std err</th>      <th>t</th>      <th>P>|t|</th>  <th>[0.025</th>    <th>0.975]</th>  \n",
       "</tr>\n",
       "<tr>\n",
       "  <th>const</th> <td>    2.4660</td> <td>    0.230</td> <td>   10.702</td> <td> 0.000</td> <td>    1.995</td> <td>    2.937</td>\n",
       "</tr>\n",
       "<tr>\n",
       "  <th>x1</th>    <td>   -2.3830</td> <td>    0.850</td> <td>   -2.804</td> <td> 0.009</td> <td>   -4.122</td> <td>   -0.645</td>\n",
       "</tr>\n",
       "</table>\n",
       "<table class=\"simpletable\">\n",
       "<tr>\n",
       "  <th>Omnibus:</th>       <td>10.409</td> <th>  Durbin-Watson:     </th> <td>   1.249</td>\n",
       "</tr>\n",
       "<tr>\n",
       "  <th>Prob(Omnibus):</th> <td> 0.005</td> <th>  Jarque-Bera (JB):  </th> <td>   9.133</td>\n",
       "</tr>\n",
       "<tr>\n",
       "  <th>Skew:</th>          <td> 1.150</td> <th>  Prob(JB):          </th> <td>  0.0104</td>\n",
       "</tr>\n",
       "<tr>\n",
       "  <th>Kurtosis:</th>      <td> 4.335</td> <th>  Cond. No.          </th> <td>    12.5</td>\n",
       "</tr>\n",
       "</table><br/><br/>Warnings:<br/>[1] Standard Errors assume that the covariance matrix of the errors is correctly specified."
      ],
      "text/plain": [
       "<class 'statsmodels.iolib.summary.Summary'>\n",
       "\"\"\"\n",
       "                            OLS Regression Results                            \n",
       "==============================================================================\n",
       "Dep. Variable:                      y   R-squared:                       0.213\n",
       "Model:                            OLS   Adj. R-squared:                  0.186\n",
       "Method:                 Least Squares   F-statistic:                     7.860\n",
       "Date:                Sun, 06 Sep 2020   Prob (F-statistic):            0.00892\n",
       "Time:                        10:51:39   Log-Likelihood:                -14.732\n",
       "No. Observations:                  31   AIC:                             33.46\n",
       "Df Residuals:                      29   BIC:                             36.33\n",
       "Df Model:                           1                                         \n",
       "Covariance Type:            nonrobust                                         \n",
       "==============================================================================\n",
       "                 coef    std err          t      P>|t|      [0.025      0.975]\n",
       "------------------------------------------------------------------------------\n",
       "const          2.4660      0.230     10.702      0.000       1.995       2.937\n",
       "x1            -2.3830      0.850     -2.804      0.009      -4.122      -0.645\n",
       "==============================================================================\n",
       "Omnibus:                       10.409   Durbin-Watson:                   1.249\n",
       "Prob(Omnibus):                  0.005   Jarque-Bera (JB):                9.133\n",
       "Skew:                           1.150   Prob(JB):                       0.0104\n",
       "Kurtosis:                       4.335   Cond. No.                         12.5\n",
       "==============================================================================\n",
       "\n",
       "Warnings:\n",
       "[1] Standard Errors assume that the covariance matrix of the errors is correctly specified.\n",
       "\"\"\""
      ]
     },
     "execution_count": 81,
     "metadata": {},
     "output_type": "execute_result"
    }
   ],
   "source": [
    "# Summaries of each model\n",
    "# Litigation Scores influencing Negative Scores\n",
    "lit_neg[0].summary()"
   ]
  },
  {
   "cell_type": "code",
   "execution_count": 82,
   "metadata": {},
   "outputs": [
    {
     "data": {
      "text/html": [
       "<table class=\"simpletable\">\n",
       "<caption>OLS Regression Results</caption>\n",
       "<tr>\n",
       "  <th>Dep. Variable:</th>            <td>y</td>        <th>  R-squared:         </th> <td>   0.137</td>\n",
       "</tr>\n",
       "<tr>\n",
       "  <th>Model:</th>                   <td>OLS</td>       <th>  Adj. R-squared:    </th> <td>   0.107</td>\n",
       "</tr>\n",
       "<tr>\n",
       "  <th>Method:</th>             <td>Least Squares</td>  <th>  F-statistic:       </th> <td>   4.600</td>\n",
       "</tr>\n",
       "<tr>\n",
       "  <th>Date:</th>             <td>Sun, 06 Sep 2020</td> <th>  Prob (F-statistic):</th>  <td>0.0405</td> \n",
       "</tr>\n",
       "<tr>\n",
       "  <th>Time:</th>                 <td>10:51:39</td>     <th>  Log-Likelihood:    </th> <td> -16.168</td>\n",
       "</tr>\n",
       "<tr>\n",
       "  <th>No. Observations:</th>      <td>    31</td>      <th>  AIC:               </th> <td>   36.34</td>\n",
       "</tr>\n",
       "<tr>\n",
       "  <th>Df Residuals:</th>          <td>    29</td>      <th>  BIC:               </th> <td>   39.20</td>\n",
       "</tr>\n",
       "<tr>\n",
       "  <th>Df Model:</th>              <td>     1</td>      <th>                     </th>     <td> </td>   \n",
       "</tr>\n",
       "<tr>\n",
       "  <th>Covariance Type:</th>      <td>nonrobust</td>    <th>                     </th>     <td> </td>   \n",
       "</tr>\n",
       "</table>\n",
       "<table class=\"simpletable\">\n",
       "<tr>\n",
       "    <td></td>       <th>coef</th>     <th>std err</th>      <th>t</th>      <th>P>|t|</th>  <th>[0.025</th>    <th>0.975]</th>  \n",
       "</tr>\n",
       "<tr>\n",
       "  <th>const</th> <td>    0.7261</td> <td>    0.531</td> <td>    1.368</td> <td> 0.182</td> <td>   -0.359</td> <td>    1.811</td>\n",
       "</tr>\n",
       "<tr>\n",
       "  <th>x1</th>    <td>    0.6970</td> <td>    0.325</td> <td>    2.145</td> <td> 0.040</td> <td>    0.032</td> <td>    1.362</td>\n",
       "</tr>\n",
       "</table>\n",
       "<table class=\"simpletable\">\n",
       "<tr>\n",
       "  <th>Omnibus:</th>       <td> 7.736</td> <th>  Durbin-Watson:     </th> <td>   1.182</td>\n",
       "</tr>\n",
       "<tr>\n",
       "  <th>Prob(Omnibus):</th> <td> 0.021</td> <th>  Jarque-Bera (JB):  </th> <td>   6.112</td>\n",
       "</tr>\n",
       "<tr>\n",
       "  <th>Skew:</th>          <td> 1.005</td> <th>  Prob(JB):          </th> <td>  0.0471</td>\n",
       "</tr>\n",
       "<tr>\n",
       "  <th>Kurtosis:</th>      <td> 3.833</td> <th>  Cond. No.          </th> <td>    15.7</td>\n",
       "</tr>\n",
       "</table><br/><br/>Warnings:<br/>[1] Standard Errors assume that the covariance matrix of the errors is correctly specified."
      ],
      "text/plain": [
       "<class 'statsmodels.iolib.summary.Summary'>\n",
       "\"\"\"\n",
       "                            OLS Regression Results                            \n",
       "==============================================================================\n",
       "Dep. Variable:                      y   R-squared:                       0.137\n",
       "Model:                            OLS   Adj. R-squared:                  0.107\n",
       "Method:                 Least Squares   F-statistic:                     4.600\n",
       "Date:                Sun, 06 Sep 2020   Prob (F-statistic):             0.0405\n",
       "Time:                        10:51:39   Log-Likelihood:                -16.168\n",
       "No. Observations:                  31   AIC:                             36.34\n",
       "Df Residuals:                      29   BIC:                             39.20\n",
       "Df Model:                           1                                         \n",
       "Covariance Type:            nonrobust                                         \n",
       "==============================================================================\n",
       "                 coef    std err          t      P>|t|      [0.025      0.975]\n",
       "------------------------------------------------------------------------------\n",
       "const          0.7261      0.531      1.368      0.182      -0.359       1.811\n",
       "x1             0.6970      0.325      2.145      0.040       0.032       1.362\n",
       "==============================================================================\n",
       "Omnibus:                        7.736   Durbin-Watson:                   1.182\n",
       "Prob(Omnibus):                  0.021   Jarque-Bera (JB):                6.112\n",
       "Skew:                           1.005   Prob(JB):                       0.0471\n",
       "Kurtosis:                       3.833   Cond. No.                         15.7\n",
       "==============================================================================\n",
       "\n",
       "Warnings:\n",
       "[1] Standard Errors assume that the covariance matrix of the errors is correctly specified.\n",
       "\"\"\""
      ]
     },
     "execution_count": 82,
     "metadata": {},
     "output_type": "execute_result"
    }
   ],
   "source": [
    "# Ambiguity Scores influencing Negative Scores\n",
    "amb_neg[0].summary()"
   ]
  },
  {
   "cell_type": "code",
   "execution_count": 83,
   "metadata": {},
   "outputs": [
    {
     "data": {
      "text/html": [
       "<table class=\"simpletable\">\n",
       "<caption>OLS Regression Results</caption>\n",
       "<tr>\n",
       "  <th>Dep. Variable:</th>            <td>y</td>        <th>  R-squared:         </th> <td>   0.203</td>\n",
       "</tr>\n",
       "<tr>\n",
       "  <th>Model:</th>                   <td>OLS</td>       <th>  Adj. R-squared:    </th> <td>   0.175</td>\n",
       "</tr>\n",
       "<tr>\n",
       "  <th>Method:</th>             <td>Least Squares</td>  <th>  F-statistic:       </th> <td>   7.384</td>\n",
       "</tr>\n",
       "<tr>\n",
       "  <th>Date:</th>             <td>Sun, 06 Sep 2020</td> <th>  Prob (F-statistic):</th>  <td>0.0110</td> \n",
       "</tr>\n",
       "<tr>\n",
       "  <th>Time:</th>                 <td>10:51:39</td>     <th>  Log-Likelihood:    </th> <td> -14.934</td>\n",
       "</tr>\n",
       "<tr>\n",
       "  <th>No. Observations:</th>      <td>    31</td>      <th>  AIC:               </th> <td>   33.87</td>\n",
       "</tr>\n",
       "<tr>\n",
       "  <th>Df Residuals:</th>          <td>    29</td>      <th>  BIC:               </th> <td>   36.74</td>\n",
       "</tr>\n",
       "<tr>\n",
       "  <th>Df Model:</th>              <td>     1</td>      <th>                     </th>     <td> </td>   \n",
       "</tr>\n",
       "<tr>\n",
       "  <th>Covariance Type:</th>      <td>nonrobust</td>    <th>                     </th>     <td> </td>   \n",
       "</tr>\n",
       "</table>\n",
       "<table class=\"simpletable\">\n",
       "<tr>\n",
       "    <td></td>       <th>coef</th>     <th>std err</th>      <th>t</th>      <th>P>|t|</th>  <th>[0.025</th>    <th>0.975]</th>  \n",
       "</tr>\n",
       "<tr>\n",
       "  <th>const</th> <td>    1.3930</td> <td>    0.184</td> <td>    7.566</td> <td> 0.000</td> <td>    1.016</td> <td>    1.770</td>\n",
       "</tr>\n",
       "<tr>\n",
       "  <th>x1</th>    <td>    0.0224</td> <td>    0.008</td> <td>    2.717</td> <td> 0.011</td> <td>    0.006</td> <td>    0.039</td>\n",
       "</tr>\n",
       "</table>\n",
       "<table class=\"simpletable\">\n",
       "<tr>\n",
       "  <th>Omnibus:</th>       <td> 1.897</td> <th>  Durbin-Watson:     </th> <td>   1.247</td>\n",
       "</tr>\n",
       "<tr>\n",
       "  <th>Prob(Omnibus):</th> <td> 0.387</td> <th>  Jarque-Bera (JB):  </th> <td>   0.791</td>\n",
       "</tr>\n",
       "<tr>\n",
       "  <th>Skew:</th>          <td> 0.127</td> <th>  Prob(JB):          </th> <td>   0.673</td>\n",
       "</tr>\n",
       "<tr>\n",
       "  <th>Kurtosis:</th>      <td> 3.741</td> <th>  Cond. No.          </th> <td>    56.7</td>\n",
       "</tr>\n",
       "</table><br/><br/>Warnings:<br/>[1] Standard Errors assume that the covariance matrix of the errors is correctly specified."
      ],
      "text/plain": [
       "<class 'statsmodels.iolib.summary.Summary'>\n",
       "\"\"\"\n",
       "                            OLS Regression Results                            \n",
       "==============================================================================\n",
       "Dep. Variable:                      y   R-squared:                       0.203\n",
       "Model:                            OLS   Adj. R-squared:                  0.175\n",
       "Method:                 Least Squares   F-statistic:                     7.384\n",
       "Date:                Sun, 06 Sep 2020   Prob (F-statistic):             0.0110\n",
       "Time:                        10:51:39   Log-Likelihood:                -14.934\n",
       "No. Observations:                  31   AIC:                             33.87\n",
       "Df Residuals:                      29   BIC:                             36.74\n",
       "Df Model:                           1                                         \n",
       "Covariance Type:            nonrobust                                         \n",
       "==============================================================================\n",
       "                 coef    std err          t      P>|t|      [0.025      0.975]\n",
       "------------------------------------------------------------------------------\n",
       "const          1.3930      0.184      7.566      0.000       1.016       1.770\n",
       "x1             0.0224      0.008      2.717      0.011       0.006       0.039\n",
       "==============================================================================\n",
       "Omnibus:                        1.897   Durbin-Watson:                   1.247\n",
       "Prob(Omnibus):                  0.387   Jarque-Bera (JB):                0.791\n",
       "Skew:                           0.127   Prob(JB):                        0.673\n",
       "Kurtosis:                       3.741   Cond. No.                         56.7\n",
       "==============================================================================\n",
       "\n",
       "Warnings:\n",
       "[1] Standard Errors assume that the covariance matrix of the errors is correctly specified.\n",
       "\"\"\""
      ]
     },
     "execution_count": 83,
     "metadata": {},
     "output_type": "execute_result"
    }
   ],
   "source": [
    "#VIX index on Negativity Scores\n",
    "vix_neg[0].summary()"
   ]
  },
  {
   "cell_type": "code",
   "execution_count": 84,
   "metadata": {},
   "outputs": [
    {
     "name": "stdout",
     "output_type": "stream",
     "text": [
      "Variable: Litigation Score\n",
      "Coefficient: -2.3830359526737404\n",
      "P-value: 0.008921597865384188\n",
      "Model R-squared: 0.21323441858149172\n",
      "\n",
      "Variable: Ambiguity Score\n",
      "Coefficient: 0.6969933563436141\n",
      "P-value: 0.04047790430340607\n",
      "Model R-squared: 0.13690869928974148\n",
      "\n",
      "Variable: Volatility Score\n",
      "Coefficient: 0.02238629094141416\n",
      "P-value: 0.01098523620046439\n",
      "Model R-squared: 0.2029413290212413\n",
      "\n"
     ]
    }
   ],
   "source": [
    "# Summary Statistcs For Univariate Regressions\n",
    "def stats(results, name):\n",
    "    print('Variable: {}\\n'\n",
    "         'Coefficient: {}\\n'\n",
    "         'P-value: {}\\n'\n",
    "         'Model R-squared: {}\\n'.format(name, results[3][1], results[2], results[1]))\n",
    "stats(lit_neg, 'Litigation Score')\n",
    "stats(amb_neg, 'Ambiguity Score')\n",
    "stats(vix_neg, 'Volatility Score')"
   ]
  },
  {
   "cell_type": "markdown",
   "metadata": {},
   "source": [
    "### Step 3: Run multivariate regressions in combination of the three features"
   ]
  },
  {
   "cell_type": "code",
   "execution_count": 85,
   "metadata": {},
   "outputs": [
    {
     "data": {
      "text/html": [
       "<table class=\"simpletable\">\n",
       "<caption>OLS Regression Results</caption>\n",
       "<tr>\n",
       "  <th>Dep. Variable:</th>            <td>y</td>        <th>  R-squared:         </th> <td>   0.213</td>\n",
       "</tr>\n",
       "<tr>\n",
       "  <th>Model:</th>                   <td>OLS</td>       <th>  Adj. R-squared:    </th> <td>   0.157</td>\n",
       "</tr>\n",
       "<tr>\n",
       "  <th>Method:</th>             <td>Least Squares</td>  <th>  F-statistic:       </th> <td>   3.797</td>\n",
       "</tr>\n",
       "<tr>\n",
       "  <th>Date:</th>             <td>Sun, 06 Sep 2020</td> <th>  Prob (F-statistic):</th>  <td>0.0347</td> \n",
       "</tr>\n",
       "<tr>\n",
       "  <th>Time:</th>                 <td>10:51:39</td>     <th>  Log-Likelihood:    </th> <td> -14.730</td>\n",
       "</tr>\n",
       "<tr>\n",
       "  <th>No. Observations:</th>      <td>    31</td>      <th>  AIC:               </th> <td>   35.46</td>\n",
       "</tr>\n",
       "<tr>\n",
       "  <th>Df Residuals:</th>          <td>    28</td>      <th>  BIC:               </th> <td>   39.76</td>\n",
       "</tr>\n",
       "<tr>\n",
       "  <th>Df Model:</th>              <td>     2</td>      <th>                     </th>     <td> </td>   \n",
       "</tr>\n",
       "<tr>\n",
       "  <th>Covariance Type:</th>      <td>nonrobust</td>    <th>                     </th>     <td> </td>   \n",
       "</tr>\n",
       "</table>\n",
       "<table class=\"simpletable\">\n",
       "<tr>\n",
       "    <td></td>       <th>coef</th>     <th>std err</th>      <th>t</th>      <th>P>|t|</th>  <th>[0.025</th>    <th>0.975]</th>  \n",
       "</tr>\n",
       "<tr>\n",
       "  <th>const</th> <td>    2.5432</td> <td>    1.216</td> <td>    2.091</td> <td> 0.046</td> <td>    0.052</td> <td>    5.035</td>\n",
       "</tr>\n",
       "<tr>\n",
       "  <th>x1</th>    <td>   -2.4617</td> <td>    1.492</td> <td>   -1.650</td> <td> 0.110</td> <td>   -5.519</td> <td>    0.595</td>\n",
       "</tr>\n",
       "<tr>\n",
       "  <th>x2</th>    <td>   -0.0352</td> <td>    0.545</td> <td>   -0.065</td> <td> 0.949</td> <td>   -1.151</td> <td>    1.081</td>\n",
       "</tr>\n",
       "</table>\n",
       "<table class=\"simpletable\">\n",
       "<tr>\n",
       "  <th>Omnibus:</th>       <td>10.436</td> <th>  Durbin-Watson:     </th> <td>   1.251</td>\n",
       "</tr>\n",
       "<tr>\n",
       "  <th>Prob(Omnibus):</th> <td> 0.005</td> <th>  Jarque-Bera (JB):  </th> <td>   9.169</td>\n",
       "</tr>\n",
       "<tr>\n",
       "  <th>Skew:</th>          <td> 1.150</td> <th>  Prob(JB):          </th> <td>  0.0102</td>\n",
       "</tr>\n",
       "<tr>\n",
       "  <th>Kurtosis:</th>      <td> 4.346</td> <th>  Cond. No.          </th> <td>    51.0</td>\n",
       "</tr>\n",
       "</table><br/><br/>Warnings:<br/>[1] Standard Errors assume that the covariance matrix of the errors is correctly specified."
      ],
      "text/plain": [
       "<class 'statsmodels.iolib.summary.Summary'>\n",
       "\"\"\"\n",
       "                            OLS Regression Results                            \n",
       "==============================================================================\n",
       "Dep. Variable:                      y   R-squared:                       0.213\n",
       "Model:                            OLS   Adj. R-squared:                  0.157\n",
       "Method:                 Least Squares   F-statistic:                     3.797\n",
       "Date:                Sun, 06 Sep 2020   Prob (F-statistic):             0.0347\n",
       "Time:                        10:51:39   Log-Likelihood:                -14.730\n",
       "No. Observations:                  31   AIC:                             35.46\n",
       "Df Residuals:                      28   BIC:                             39.76\n",
       "Df Model:                           2                                         \n",
       "Covariance Type:            nonrobust                                         \n",
       "==============================================================================\n",
       "                 coef    std err          t      P>|t|      [0.025      0.975]\n",
       "------------------------------------------------------------------------------\n",
       "const          2.5432      1.216      2.091      0.046       0.052       5.035\n",
       "x1            -2.4617      1.492     -1.650      0.110      -5.519       0.595\n",
       "x2            -0.0352      0.545     -0.065      0.949      -1.151       1.081\n",
       "==============================================================================\n",
       "Omnibus:                       10.436   Durbin-Watson:                   1.251\n",
       "Prob(Omnibus):                  0.005   Jarque-Bera (JB):                9.169\n",
       "Skew:                           1.150   Prob(JB):                       0.0102\n",
       "Kurtosis:                       4.346   Cond. No.                         51.0\n",
       "==============================================================================\n",
       "\n",
       "Warnings:\n",
       "[1] Standard Errors assume that the covariance matrix of the errors is correctly specified.\n",
       "\"\"\""
      ]
     },
     "execution_count": 85,
     "metadata": {},
     "output_type": "execute_result"
    }
   ],
   "source": [
    "# Regression with Litigation and Ambiguity (both statistically significant alone and have highest coefficients)\n",
    "two = np.hstack((litigation, ambiguity))\n",
    "reg_m(Neg_score, two).summary()"
   ]
  },
  {
   "cell_type": "code",
   "execution_count": 86,
   "metadata": {},
   "outputs": [
    {
     "name": "stdout",
     "output_type": "stream",
     "text": [
      "                            OLS Regression Results                            \n",
      "==============================================================================\n",
      "Dep. Variable:                      y   R-squared:                       0.375\n",
      "Model:                            OLS   Adj. R-squared:                  0.330\n",
      "Method:                 Least Squares   F-statistic:                     8.383\n",
      "Date:                Sun, 06 Sep 2020   Prob (F-statistic):            0.00140\n",
      "Time:                        10:51:39   Log-Likelihood:                -11.176\n",
      "No. Observations:                  31   AIC:                             28.35\n",
      "Df Residuals:                      28   BIC:                             32.65\n",
      "Df Model:                           2                                         \n",
      "Covariance Type:            nonrobust                                         \n",
      "==============================================================================\n",
      "                 coef    std err          t      P>|t|      [0.025      0.975]\n",
      "------------------------------------------------------------------------------\n",
      "const          1.9940      0.273      7.302      0.000       1.435       2.553\n",
      "x1            -2.1511      0.776     -2.772      0.010      -3.741      -0.561\n",
      "x2             0.0201      0.007      2.687      0.012       0.005       0.035\n",
      "==============================================================================\n",
      "Omnibus:                        7.885   Durbin-Watson:                   1.489\n",
      "Prob(Omnibus):                  0.019   Jarque-Bera (JB):                6.361\n",
      "Skew:                           0.868   Prob(JB):                       0.0416\n",
      "Kurtosis:                       4.382   Cond. No.                         275.\n",
      "==============================================================================\n",
      "\n",
      "Warnings:\n",
      "[1] Standard Errors assume that the covariance matrix of the errors is correctly specified.\n"
     ]
    }
   ],
   "source": [
    "# Regression with Vix and Litigation\n",
    "two_2 = np.hstack((litigation, vix))\n",
    "print(reg_m(Neg_score, two_2).summary())"
   ]
  },
  {
   "cell_type": "code",
   "execution_count": 87,
   "metadata": {},
   "outputs": [
    {
     "name": "stdout",
     "output_type": "stream",
     "text": [
      "                            OLS Regression Results                            \n",
      "==============================================================================\n",
      "Dep. Variable:                      y   R-squared:                       0.213\n",
      "Model:                            OLS   Adj. R-squared:                  0.157\n",
      "Method:                 Least Squares   F-statistic:                     3.797\n",
      "Date:                Sun, 06 Sep 2020   Prob (F-statistic):             0.0347\n",
      "Time:                        10:51:39   Log-Likelihood:                -14.730\n",
      "No. Observations:                  31   AIC:                             35.46\n",
      "Df Residuals:                      28   BIC:                             39.76\n",
      "Df Model:                           2                                         \n",
      "Covariance Type:            nonrobust                                         \n",
      "==============================================================================\n",
      "                 coef    std err          t      P>|t|      [0.025      0.975]\n",
      "------------------------------------------------------------------------------\n",
      "const          2.5432      1.216      2.091      0.046       0.052       5.035\n",
      "x1            -2.4617      1.492     -1.650      0.110      -5.519       0.595\n",
      "x2            -0.0352      0.545     -0.065      0.949      -1.151       1.081\n",
      "==============================================================================\n",
      "Omnibus:                       10.436   Durbin-Watson:                   1.251\n",
      "Prob(Omnibus):                  0.005   Jarque-Bera (JB):                9.169\n",
      "Skew:                           1.150   Prob(JB):                       0.0102\n",
      "Kurtosis:                       4.346   Cond. No.                         51.0\n",
      "==============================================================================\n",
      "\n",
      "Warnings:\n",
      "[1] Standard Errors assume that the covariance matrix of the errors is correctly specified.\n"
     ]
    }
   ],
   "source": [
    "#Regression with Litigation and Ambiguity\n",
    "two_3 = np.hstack((litigation, ambiguity))\n",
    "print(reg_m(Neg_score, two_3).summary())"
   ]
  },
  {
   "cell_type": "code",
   "execution_count": 88,
   "metadata": {},
   "outputs": [
    {
     "name": "stdout",
     "output_type": "stream",
     "text": [
      "                            OLS Regression Results                            \n",
      "==============================================================================\n",
      "Dep. Variable:                      y   R-squared:                       0.434\n",
      "Model:                            OLS   Adj. R-squared:                  0.371\n",
      "Method:                 Least Squares   F-statistic:                     6.896\n",
      "Date:                Sun, 06 Sep 2020   Prob (F-statistic):            0.00135\n",
      "Time:                        10:51:39   Log-Likelihood:                -9.6327\n",
      "No. Observations:                  31   AIC:                             27.27\n",
      "Df Residuals:                      27   BIC:                             33.00\n",
      "Df Model:                           3                                         \n",
      "Covariance Type:            nonrobust                                         \n",
      "==============================================================================\n",
      "                 coef    std err          t      P>|t|      [0.025      0.975]\n",
      "------------------------------------------------------------------------------\n",
      "const         -0.2453      1.358     -0.181      0.858      -3.031       2.541\n",
      "x1             0.0344      1.502      0.023      0.982      -3.047       3.116\n",
      "x2             0.9388      0.558      1.681      0.104      -0.207       2.084\n",
      "x3             0.0279      0.009      3.242      0.003       0.010       0.045\n",
      "==============================================================================\n",
      "Omnibus:                        5.671   Durbin-Watson:                   1.616\n",
      "Prob(Omnibus):                  0.059   Jarque-Bera (JB):                3.979\n",
      "Skew:                           0.726   Prob(JB):                        0.137\n",
      "Kurtosis:                       3.985   Cond. No.                         725.\n",
      "==============================================================================\n",
      "\n",
      "Warnings:\n",
      "[1] Standard Errors assume that the covariance matrix of the errors is correctly specified.\n"
     ]
    }
   ],
   "source": [
    "# Multivarible Regression with all three\n",
    "# X1 = litigation, X2 = ambiguity, X3 = vix\n",
    "print(reg_m(Neg_score, X).summary())"
   ]
  },
  {
   "cell_type": "markdown",
   "metadata": {},
   "source": [
    "### Regression Conclusions"
   ]
  },
  {
   "cell_type": "markdown",
   "metadata": {},
   "source": [
    "In analyzing the relationship of the Volatility, Ambiguity, and Litigation scores with Negative Score, we find that that the relationship varies between each variable with considerable differences in significance.  When we analyze each variable independently, we find the following relationship:\n",
    "\n",
    "Litigation Score:\n",
    "    Coefficient: -2.3830\n",
    "P-value: 0.0089\n",
    "Model R-squared: 0.2132\n",
    "\n",
    "Ambiguity Score:\n",
    "    Coefficient: 0.6970\n",
    "P-value: 0.0405\n",
    "Model R-squared: 0.1369\n",
    "\n",
    "Volatility Score:\n",
    "    Coefficient: 0.0224\n",
    "P-value: 0.0110\n",
    "Model R-squared: 0.20294\n",
    "\n",
    "With each variable statistically significant at the 0.05 threshold, we can see that the negative score is most sensitive to changes in the litigation score with the coefficient greatest from zero.  The litigation score also has the largest R-squared with 21.3% of the data explained by the model.  However, this R-squared is very low, indicating that a single variable is not sufficient in representing the relationship of the negative score to the dataset.\n",
    "\n",
    "To explore if additional variables improve the model, several multiple regressions with different combinations of each of the three variables were ran.  The results found that the inclusion of more variables indeed increases R-squared in each case, but, their significance varies.  The best model appears to be including the Litigation and Volatility variables as the inclusion of the two is the most statistically significant combination at the 0.05 threshold and a R-squared of 0.375, the highest R-squared for models where each variable is statistically significant.  While the best model, several red flags still arise as the R-squared is still fairly low to say that the model is a good fit for the data as well as loosening our significance level to a value greater than 0.05 would most likely change the model to include and exclude the variables in a different combination. This must indicate that the litigation and volatility scores are important, but, there must be additional variables that would contribute in building a better and more holistic model."
   ]
  },
  {
   "cell_type": "markdown",
   "metadata": {},
   "source": [
    "----------"
   ]
  }
 ],
 "metadata": {
  "kernelspec": {
   "display_name": "Python 3",
   "language": "python",
   "name": "python3"
  },
  "language_info": {
   "codemirror_mode": {
    "name": "ipython",
    "version": 3
   },
   "file_extension": ".py",
   "mimetype": "text/x-python",
   "name": "python",
   "nbconvert_exporter": "python",
   "pygments_lexer": "ipython3",
   "version": "3.7.4"
  }
 },
 "nbformat": 4,
 "nbformat_minor": 2
}
